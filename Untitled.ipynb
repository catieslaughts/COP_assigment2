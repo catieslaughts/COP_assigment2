{
 "cells": [
  {
   "cell_type": "code",
   "execution_count": 8,
   "id": "b20d645c",
   "metadata": {},
   "outputs": [],
   "source": [
    "import numpy as np\n",
    "import matplotlib.pyplot as plt"
   ]
  },
  {
   "cell_type": "code",
   "execution_count": 9,
   "id": "c8b2a53a",
   "metadata": {},
   "outputs": [],
   "source": [
    "def create_system(N):\n",
    "    system_arr = np.random.randint(0, 2, (N, N))\n",
    "    system_arr[system_arr == 0] = -1\n",
    "    return (system_arr)"
   ]
  },
  {
   "cell_type": "code",
   "execution_count": 10,
   "id": "d15edf25",
   "metadata": {},
   "outputs": [
    {
     "data": {
      "text/plain": [
       "<matplotlib.image.AxesImage at 0x7f89802eefd0>"
      ]
     },
     "execution_count": 10,
     "metadata": {},
     "output_type": "execute_result"
    },
    {
     "data": {
      "image/png": "[encoded data removed]",
      "text/plain": [
       "<Figure size 432x288 with 1 Axes>"
      ]
     },
     "metadata": {
      "needs_background": "light"
     },
     "output_type": "display_data"
    }
   ],
   "source": [
    "plt.imshow(create_system(10))"
   ]
  },
  {
   "cell_type": "code",
   "execution_count": null,
   "id": "784c8a48",
   "metadata": {},
   "outputs": [],
   "source": []
  }
 ],
 "metadata": {
  "kernelspec": {
   "display_name": "Python 3 (ipykernel)",
   "language": "python",
   "name": "python3"
  },
  "language_info": {
   "codemirror_mode": {
    "name": "ipython",
    "version": 3
   },
   "file_extension": ".py",
   "mimetype": "text/x-python",
   "name": "python",
   "nbconvert_exporter": "python",
   "pygments_lexer": "ipython3",
   "version": "3.9.7"
  }
 },
 "nbformat": 4,
 "nbformat_minor": 5
}
